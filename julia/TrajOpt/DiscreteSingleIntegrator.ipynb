{
 "cells": [
  {
   "cell_type": "code",
   "execution_count": 1,
   "id": "da92bf6b-3e5b-4962-8ca3-10107f359c73",
   "metadata": {},
   "outputs": [],
   "source": [
    "using TrajectoryOptimization\n",
    "using Altro\n",
    "using RobotDynamics\n",
    "using StaticArrays\n",
    "using LinearAlgebra\n",
    "using ForwardDiff\n",
    "using FiniteDiff\n",
    "using PyPlot"
   ]
  },
  {
   "cell_type": "code",
   "execution_count": 2,
   "id": "3fca8f89-9507-4eae-a97b-ae36e9f57753",
   "metadata": {},
   "outputs": [
    {
     "name": "stdout",
     "output_type": "stream",
     "text": [
      "size(si_model) = (2, 2, 2)\n",
      "Q = [0.5 0.0; 0.0 0.5]\n",
      "Initial cost = 947.25\n",
      "\u001b[32;1m\n",
      "SOLVE COMPLETED\n",
      "\u001b[0m solved using the \u001b[0m\u001b[36;1mALTRO\u001b[0m Solver,\n",
      " part of the Altro.jl package developed by the REx Lab at Stanford and Carnegie Mellon Universities\n",
      "\u001b[34;1m\n",
      "  Solve Statistics\n",
      "\u001b[0m    Total Iterations: 11\n",
      "\u001b[0m    Solve Time: 1967.824958 (ms)\n",
      "\u001b[34;1m\n",
      "  Covergence\n",
      "\u001b[0m    Terminal Cost: 217.1425159366376\n",
      "\u001b[0m    Terminal dJ: \u001b[32m-9.900302873688815e-5\n",
      "\u001b[0m    Terminal gradient: \u001b[32m2.821115170174917e-16\n",
      "\u001b[0m    Terminal constraint violation: \u001b[32m1.7319479184152442e-13\n",
      "\u001b[0m    Solve Status: \u001b[1m\u001b[32mSOLVE_SUCCEEDED\n",
      "\u001b[0mSolved cost = 217.1425159366428\n"
     ]
    },
    {
     "name": "stderr",
     "output_type": "stream",
     "text": [
      "┌ Warning: A not upper triangular. Creating a new upper-triangular matrix.\n",
      "└ @ Altro.Cqdldl /Users/jbwillis/.julia/packages/Altro/ePjvB/src/qdldl.jl:156\n"
     ]
    }
   ],
   "source": [
    "const Nx = 2 # state dimension\n",
    "const Nu = 2 # control dimension\n",
    "dt = 0.1 # timestep\n",
    "\n",
    "x0 = SA[0., -4.]\n",
    "xf = SA[3., 3.]\n",
    "u0 = SA[1., 1.]\n",
    "\n",
    "tf = 10.0\n",
    "Nk = 21\n",
    "\n",
    "Q = 0.5*diagm(ones(Nx))\n",
    "R = 0.5*diagm(ones(Nu))\n",
    "\n",
    "\n",
    "# set up dynamics\n",
    "function si_dynamics(x, u, t, dt)\n",
    "    return SA[x[1] + dt*u[1], x[2] + dt*u[2]]\n",
    "end\n",
    "\n",
    "struct SimpleSingleIntegrator <: RobotDynamics.DiscreteDynamics\n",
    "end\n",
    "\n",
    "function RobotDynamics.discrete_dynamics(model::SimpleSingleIntegrator, x, u, t, dt)\n",
    "    return si_dynamics(x, u, t, dt)\n",
    "end\n",
    "\n",
    "# function RobotDynamics.discrete_dynamics!(model::SimpleSingleIntegrator, xn, x, u, t, dt)\n",
    "#     xn .= si_dynamics(x, u, t, dt)\n",
    "#     nothing\n",
    "# end\n",
    "\n",
    "function RobotDynamics.jacobian!(::RobotDynamics.StaticReturn, ::RobotDynamics.ForwardAD, model::SimpleSingleIntegrator, J, y, z)\n",
    "    f(_z) = RobotDynamics.evaluate(model, RobotDynamics.getstate(z, _z), RobotDynamics.getcontrol(z, _z), RobotDynamics.getparams(z))\n",
    "    J .= ForwardDiff.jacobian(f, RobotDynamics.getdata(z))\n",
    "end\n",
    "\n",
    "RobotDynamics.default_signature(::SimpleSingleIntegrator) = RobotDynamics.StaticReturn()\n",
    "RobotDynamics.state_dim(::SimpleSingleIntegrator) = Nx\n",
    "RobotDynamics.control_dim(::SimpleSingleIntegrator) = Nu\n",
    "\n",
    "si_model = SimpleSingleIntegrator()\n",
    "\n",
    "@show size(si_model)\n",
    "\n",
    "# set up TrajOpt problem\n",
    "si_obj = LQRObjective(Q, R, Nk.*Q, xf, Nk)\n",
    "\n",
    "si_cons = ConstraintList(Nx, Nu, Nk)\n",
    "add_constraint!(si_cons, GoalConstraint(xf), Nk)\n",
    "\n",
    "@show Q\n",
    "\n",
    "U0 = [u0 for k = 1:Nk-1]\n",
    "\n",
    "si_prob = Problem(si_model, si_obj, x0, tf, xf=xf, constraints=si_cons)\n",
    "initial_controls!(si_prob, U0)\n",
    "\n",
    "si_solver = ALTROSolver(si_prob)\n",
    "\n",
    "println(\"Initial cost = \", cost(si_solver))\n",
    "\n",
    "solve!(si_solver)\n",
    "# rollout!(si_solver)\n",
    "\n",
    "println(\"Solved cost = \", cost(si_solver))"
   ]
  },
  {
   "cell_type": "code",
   "execution_count": 3,
   "id": "52fd904c-fdf3-4afb-bb60-9d8dde13bd55",
   "metadata": {},
   "outputs": [
    {
     "data": {
      "image/png": "[encoded data removed]",
      "text/plain": [
       "Figure(PyObject <Figure size 640x480 with 1 Axes>)"
      ]
     },
     "metadata": {},
     "output_type": "display_data"
    },
    {
     "data": {
      "text/plain": [
       "1-element Vector{PyCall.PyObject}:\n",
       " PyObject <matplotlib.lines.Line2D object at 0x18035ddf0>"
      ]
     },
     "execution_count": 3,
     "metadata": {},
     "output_type": "execute_result"
    }
   ],
   "source": [
    "traj = get_trajectory(si_solver)\n",
    "\n",
    "plot(traj.times, [traj.data[i][1] for i = 1:size(traj.data,1)], \"r\")\n",
    "plot(traj.times, [traj.data[i][2] for i = 1:size(traj.data,1)], \"b\")"
   ]
  },
  {
   "cell_type": "code",
   "execution_count": 9,
   "id": "29e6b02e-61f2-43ad-b96b-e62d764517e1",
   "metadata": {},
   "outputs": [
    {
     "data": {
      "text/plain": [
       "RobotDynamics.StaticReturn()"
      ]
     },
     "execution_count": 9,
     "metadata": {},
     "output_type": "execute_result"
    }
   ],
   "source": [
    "RobotDynamics.default_signature(si_model)"
   ]
  },
  {
   "cell_type": "code",
   "execution_count": null,
   "id": "502ae24d-d7de-4ee0-87c0-5ce9a12041ff",
   "metadata": {},
   "outputs": [],
   "source": []
  }
 ],
 "metadata": {
  "kernelspec": {
   "display_name": "Julia 1.6.5",
   "language": "julia",
   "name": "julia-1.6"
  },
  "language_info": {
   "file_extension": ".jl",
   "mimetype": "application/julia",
   "name": "julia",
   "version": "1.6.5"
  }
 },
 "nbformat": 4,
 "nbformat_minor": 5
}
