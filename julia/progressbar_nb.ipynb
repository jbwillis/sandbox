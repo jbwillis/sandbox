{
 "cells": [
  {
   "cell_type": "code",
   "execution_count": 10,
   "metadata": {},
   "outputs": [
    {
     "name": "stderr",
     "output_type": "stream",
     "text": [
      "\u001b[32m\u001b[1m   Resolving\u001b[22m\u001b[39m package versions...\n",
      "\u001b[32m\u001b[1m   Installed\u001b[22m\u001b[39m ProgressMeter ─ v1.7.2\n",
      "\u001b[32m\u001b[1m    Updating\u001b[22m\u001b[39m `~/.julia/environments/v1.7/Project.toml`\n",
      " \u001b[90m [92933f4c] \u001b[39m\u001b[92m+ ProgressMeter v1.7.2\u001b[39m\n",
      "\u001b[32m\u001b[1m    Updating\u001b[22m\u001b[39m `~/.julia/environments/v1.7/Manifest.toml`\n",
      " \u001b[90m [92933f4c] \u001b[39m\u001b[92m+ ProgressMeter v1.7.2\u001b[39m\n",
      " \u001b[90m [8ba89e20] \u001b[39m\u001b[92m+ Distributed\u001b[39m\n",
      "\u001b[32m\u001b[1mPrecompiling\u001b[22m\u001b[39m project...\n",
      "\u001b[32m  ✓ \u001b[39mProgressMeter\n",
      "  1 dependency successfully precompiled in 1 seconds (25 already precompiled, 3 skipped during auto due to previous errors)\n"
     ]
    }
   ],
   "source": [
    "using Pkg\n",
    "Pkg.add(\"ProgressMeter\")\n",
    "using ProgressMeter"
   ]
  },
  {
   "cell_type": "code",
   "execution_count": 13,
   "metadata": {},
   "outputs": [
    {
     "name": "stderr",
     "output_type": "stream",
     "text": [
      "\u001b[32mProgress: 100%|█████████████████████████████████████████| Time: 0:00:01\u001b[39m\n"
     ]
    }
   ],
   "source": [
    "@showprogress for i in 1:10\n",
    "    sleep(.1)\n",
    "end"
   ]
  },
  {
   "cell_type": "code",
   "execution_count": null,
   "metadata": {},
   "outputs": [],
   "source": [
    "Pkg.add(\"ProgressBars\")\n",
    "using ProgressBars"
   ]
  },
  {
   "cell_type": "code",
   "execution_count": 14,
   "metadata": {},
   "outputs": [
    {
     "name": "stderr",
     "output_type": "stream",
     "text": [
      "0.0%┣                                               ┫ 0/10 [00:00<00:-1, -0s/it]\n",
      "10.0%┣████▏                                     ┫ 1/10 [00:00<Inf:Inf, InfGs/it]\n",
      "20.0%┣█████████▍                                     ┫ 2/10 [00:00<00:02, 4it/s]\n",
      "30.0%┣██████████████                                 ┫ 3/10 [00:00<00:01, 6it/s]\n",
      "40.0%┣██████████████████▉                            ┫ 4/10 [00:00<00:01, 7it/s]\n",
      "50.0%┣███████████████████████▌                       ┫ 5/10 [00:01<00:01, 7it/s]\n",
      "60.0%┣████████████████████████████▏                  ┫ 6/10 [00:01<00:01, 8it/s]\n",
      "70.0%┣█████████████████████████████████              ┫ 7/10 [00:01<00:00, 8it/s]\n",
      "80.0%┣█████████████████████████████████████▋         ┫ 8/10 [00:01<00:00, 8it/s]\n",
      "90.0%┣██████████████████████████████████████████▎    ┫ 9/10 [00:01<00:00, 8it/s]\n",
      "100.0%┣█████████████████████████████████████████████┫ 10/10 [00:01<00:00, 8it/s]\n",
      "100.0%┣█████████████████████████████████████████████┫ 10/10 [00:01<00:00, 8it/s]\n"
     ]
    }
   ],
   "source": [
    "for i in ProgressBar(1:10)\n",
    "    sleep(.1)\n",
    "end"
   ]
  },
  {
   "cell_type": "code",
   "execution_count": null,
   "metadata": {},
   "outputs": [],
   "source": []
  }
 ],
 "metadata": {
  "kernelspec": {
   "display_name": "Julia 1.7.2",
   "language": "julia",
   "name": "julia-1.7"
  },
  "language_info": {
   "file_extension": ".jl",
   "mimetype": "application/julia",
   "name": "julia",
   "version": "1.7.2"
  },
  "orig_nbformat": 4
 },
 "nbformat": 4,
 "nbformat_minor": 2
}
